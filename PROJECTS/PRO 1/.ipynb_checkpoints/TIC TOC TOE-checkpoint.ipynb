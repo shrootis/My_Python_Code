{
 "cells": [
  {
   "cell_type": "code",
   "execution_count": 3,
   "metadata": {},
   "outputs": [
    {
     "name": "stdout",
     "output_type": "stream",
     "text": [
      "   |   |\n",
     ]
    }
   ],
   "source": [
    "from IPython.display import clear_output\n",
    "def display_board(board):   \n",
    "    clear_output() #Clears any output present till this line of code\n",
    "    print('   |   |')\n",
    "    print(' ' + board[7] + ' | ' + board[8] + ' | ' + board[9])\n",
    "    print('   |   |')\n",
    "    print('-----------')\n",
    "    print('   |   |')\n",
    "    print(' ' + board[4] + ' | ' + board[5] + ' | ' + board[6])\n",
    "    print('   |   |')\n",
    "    print('-----------')\n",
    "    print('   |   |')\n",
    "    print(' ' + board[1] + ' | ' + board[2] + ' | ' + board[3])\n",
    "    print('   |   |')\n",
    "    \n",
    "test=[' ']*10    \n",
    "display_board(test)"
   ]
  },
  {
   "cell_type": "code",
   "execution_count": 4,
   "metadata": {},
   "outputs": [
    {
     "name": "stdout",
     "output_type": "stream",
     "text": [
      "   |   |\n",
      " o | x | o\n",
      "   |   |\n",
      "-----------\n",
      "   |   |\n",
      " x | o | x\n",
      "   |   |\n",
      "-----------\n",
      "   |   |\n",
      " o | x | n\n",
      "   |   |\n"
     ]
    }
   ],
   "source": [
    "test =['#','o','x','n','x','o','x','o','x','o']\n",
    "display_board(test)"
   ]
  },
  {
   "cell_type": "code",
   "execution_count": 5,
   "metadata": {},
   "outputs": [],
   "source": [
    "def player_input():\n",
    "    marker=''\n",
    "    \n",
    "    while marker != 'X' and marker != 'O':\n",
    "        marker =input('PLAYER 1 CHOOSE EITHER OF [X] OR [O] ').upper()\n",
    "        if marker == 'X':\n",
    "            return ('X','O')\n",
    "        else:\n",
    "            return ('O','X')\n",
    "            "
   ]
  },
  {
   "cell_type": "code",
   "execution_count": 6,
   "metadata": {},
   "outputs": [
    {
     "name": "stdout",
     "output_type": "stream",
     "text": [
      "PLAYER 1 CHOOSE EITHER OF [X] OR [O] \n"
     ]
    }
   ],
   "source": [
    "player1_marker,player2_marker=player_input()"
   ]
  },
  {
   "cell_type": "code",
   "execution_count": 7,
   "metadata": {},
   "outputs": [
    {
     "data": {
      "text/plain": [
       "'O'"
      ]
     },
     "execution_count": 7,
     "metadata": {},
     "output_type": "execute_result"
    }
   ],
   "source": [
    "player1_marker"
   ]
  },
  {
   "cell_type": "code",
   "execution_count": 8,
   "metadata": {},
   "outputs": [
    {
     "name": "stdout",
     "output_type": "stream",
     "text": [
      "PLAYER 1 CHOOSE EITHER OF [X] OR [O] \n"
     ]
    },
    {
     "data": {
      "text/plain": [
       "('O', 'X')"
      ]
     },
     "execution_count": 8,
     "metadata": {},
     "output_type": "execute_result"
    }
   ],
   "source": [
    "player_input()"
   ]
  },
  {
   "cell_type": "code",
   "execution_count": 9,
   "metadata": {},
   "outputs": [],
   "source": [
    "def place_marker(b,marker,position):\n",
    "    b[position]=marker"
   ]
  },
  {
   "cell_type": "code",
   "execution_count": 10,
   "metadata": {},
   "outputs": [
    {
     "name": "stdout",
     "output_type": "stream",
     "text": [
      "   |   |\n",
      " $ | x | o\n",
      "   |   |\n",
      "-----------\n",
      "   |   |\n",
      " x | o | x\n",
      "   |   |\n",
      "-----------\n",
      "   |   |\n",
      " o | x | n\n",
      "   |   |\n"
     ]
    }
   ],
   "source": [
    "place_marker(test,'$',7)\n",
    "display_board(test)"
   ]
  },
  {
   "cell_type": "code",
   "execution_count": 11,
   "metadata": {},
   "outputs": [],
   "source": [
    "def win_check(b,marker):\n",
    "    return((b[1]==marker and b[2]==marker and b[3]==marker) or\n",
    "    (b[4]==marker and b[5]==marker and b[6]==marker) or\n",
    "    (b[7]==marker and b[8]==marker and b[9]==marker) or\n",
    "    (b[1]==marker and b[4]==marker and b[7]==marker) or\n",
    "    (b[2]==marker and b[5]==marker and b[8]==marker) or\n",
    "    (b[3]==marker and b[6]==marker and b[9]==marker) or\n",
    "    (b[1]==marker and b[5]==marker and b[9]==marker) or\n",
    "    (b[3]==marker and b[5]==marker and b[7]==marker)) "
   ]
  },
  {
   "cell_type": "code",
   "execution_count": 12,
   "metadata": {},
   "outputs": [
    {
     "name": "stdout",
     "output_type": "stream",
     "text": [
      "   |   |\n",
      " $ | x | o\n",
      "   |   |\n",
      "-----------\n",
      "   |   |\n",
      " x | o | x\n",
      "   |   |\n",
      "-----------\n",
      "   |   |\n",
      " o | x | n\n",
      "   |   |\n"
     ]
    },
    {
     "data": {
      "text/plain": [
       "False"
      ]
     },
     "execution_count": 12,
     "metadata": {},
     "output_type": "execute_result"
    }
   ],
   "source": [
    "display_board(test)\n",
    "win_check(test,'X')"
   ]
  },
  {
   "cell_type": "code",
   "execution_count": 13,
   "metadata": {},
   "outputs": [],
   "source": [
    "import random\n",
    "def choose_f():\n",
    "    if random.randint(0, 1) == 0:\n",
    "        return 'player2'\n",
    "    else:\n",
    "        return 'player1'"
   ]
  },
  {
   "cell_type": "code",
   "execution_count": 14,
   "metadata": {},
   "outputs": [],
   "source": [
    "def space_check(b,position):\n",
    "    return b[position] == ''\n",
    "    "
   ]
  },
  {
   "cell_type": "code",
   "execution_count": 15,
   "metadata": {},
   "outputs": [],
   "source": [
    "def full_check(b):\n",
    "    for _ in range(1,10):\n",
    "        if space_check(b,_):\n",
    "            return False\n",
    "    else:\n",
    "        return True  \n",
    "        "
   ]
  },
  {
   "cell_type": "code",
   "execution_count": 16,
   "metadata": {},
   "outputs": [],
   "source": [
    "def player_choice(b):\n",
    "    position=0\n",
    "    while position not in [1,2,3,4,5,6,7,8,9] or not space_check(b,position):\n",
    "        position=int(input('CHOOSE A POSITION [1-9] '))\n",
    "    return position    "
   ]
  },
  {
   "cell_type": "code",
   "execution_count": 17,
   "metadata": {},
   "outputs": [],
   "source": [
    "def replay():\n",
    "    choice =input('WANNA PLAY AGAIN ? YES or NO').lower()\n",
    "    return choice == 'yes'"
   ]
  },
  {
   "cell_type": "code",
   "execution_count": null,
   "metadata": {},
   "outputs": [
    {
     "name": "stdout",
     "output_type": "stream",
     "text": [
      "WELCOME TO THE GAME\n"
     ]
    }
   ],
   "source": [
    "print('WELCOME TO TIC TOC TOE')\n",
    "while True:\n",
    "    #SET UP EVERYTHING.\n",
    "    the_board=[' '] * 10\n",
    "    player1_marker,player2_marker=player_input()\n",
    "    turn=choose_f()\n",
    "    print( turn + '  goes first !!!')\n",
    "    play_game=input('READY TO PLAY ? Y  or  N')\n",
    "    if play_game == 'y':\n",
    "        game_on=True\n",
    "    else:\n",
    "        game_on =False\n",
    "     \n",
    "    # GAME PLAY :\n",
    "    while game_on:\n",
    "        if turn == 'player1':\n",
    "            # PLAYER 1 CHANCE.\n",
    "            display_board(the_board)  # PLAYER CAN SEE THE BOARD.\n",
    "            \n",
    "            #Place the marker to its position.\n",
    "            position=player_choice(the_board)\n",
    "            place_marker(the_board,player1_marker,position)\n",
    "            \n",
    "            # check if it won.\n",
    "            if win_check(the_board,player1_marker):\n",
    "                display_board(the_board)\n",
    "                print('PLAYER 1 YOU WON')\n",
    "                game_on=False\n",
    "                \n",
    "            # If there is a tie possibilities.    \n",
    "            else:\n",
    "                if full_check(the_board):\n",
    "                    display_board(the_board)\n",
    "                    print('THERE IS A TIE !!!')\n",
    "                    game_on=False\n",
    "                else:\n",
    "                    turn ='player2'\n",
    "                    \n",
    "        # PLAYER 2 TURNS !!!            \n",
    "        else:\n",
    "                        # PLAYER 1 CHANCE.\n",
    "            display_board(the_board)  # PLAYER CAN SEE THE BOARD.\n",
    "            \n",
    "            #Place the marker to its position.\n",
    "            position=player_choice(the_board)\n",
    "            place_marker(the_board,player2_marker,position)\n",
    "            \n",
    "            # check if it won.\n",
    "            if win_check(the_board,player2_marker):\n",
    "                display_board(the_board)\n",
    "                print('PLAYER 2 YOU WON')\n",
    "                game_on=False\n",
    "                \n",
    "            # If there is a tie possibilities.    \n",
    "            else:\n",
    "                if full_check(the_board):\n",
    "                    display_board(the_board)\n",
    "                    print('THERE IS A TIE !!!')\n",
    "                    game_on=False\n",
    "                else:\n",
    "                    turn = 'player1'\n",
    "       \n",
    "            \n",
    "            \n",
    "    \n",
    "    \n",
    "    \n",
    "    \n",
    "    if not replay():\n",
    "        break"
   ]
  },
  {
   "cell_type": "code",
   "execution_count": null,
   "metadata": {},
   "outputs": [],
   "source": []
  },
  {
   "cell_type": "code",
   "execution_count": null,
   "metadata": {},
   "outputs": [],
   "source": []
  },
  {
   "cell_type": "code",
   "execution_count": null,
   "metadata": {},
   "outputs": [],
   "source": []
  }
 ],
 "metadata": {
  "kernelspec": {
   "display_name": "Python 3",
   "language": "python",
   "name": "python3"
  },
  "language_info": {
   "codemirror_mode": {
    "name": "ipython",
    "version": 3
   },
   "file_extension": ".py",
   "mimetype": "text/x-python",
   "name": "python",
   "nbconvert_exporter": "python",
   "pygments_lexer": "ipython3",
   "version": "3.6.5"
  }
 },
 "nbformat": 4,
 "nbformat_minor": 2
}
